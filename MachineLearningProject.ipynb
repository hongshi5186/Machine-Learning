{
  "nbformat": 4,
  "nbformat_minor": 0,
  "metadata": {
    "colab": {
      "provenance": [],
      "authorship_tag": "ABX9TyN9c+KigiWbZ+IA48DSKMaO",
      "include_colab_link": true
    },
    "kernelspec": {
      "name": "python3",
      "display_name": "Python 3"
    },
    "language_info": {
      "name": "python"
    },
    "gpuClass": "standard"
  },
  "cells": [
    {
      "cell_type": "markdown",
      "metadata": {
        "id": "view-in-github",
        "colab_type": "text"
      },
      "source": [
        "<a href=\"https://colab.research.google.com/github/laura5186/Machine-Learning/blob/main/MachineLearningProject.ipynb\" target=\"_parent\"><img src=\"https://colab.research.google.com/assets/colab-badge.svg\" alt=\"Open In Colab\"/></a>"
      ]
    },
    {
      "cell_type": "code",
      "execution_count": null,
      "metadata": {
        "id": "Tuyr1b5rVhWB"
      },
      "outputs": [],
      "source": [
        "# download packages\n",
        "\n",
        "from tensorflow.keras import models,layers\n",
        "import matplotlib.pyplot as plt\n",
        "from tensorflow.keras.preprocessing import image\n",
        "from tensorflow.keras.preprocessing.image import ImageDataGenerator, load_img\n",
        "from tensorflow.keras.models import Sequential\n",
        "import tensorflow as tf\n",
        "\n",
        "import numpy as np\n",
        "from glob import glob"
      ]
    },
    {
      "cell_type": "code",
      "source": [
        "# connect with the google drive\n",
        "from google.colab import drive\n",
        "drive.mount('/content/drive')"
      ],
      "metadata": {
        "id": "09J6VKI3VsCz",
        "colab": {
          "base_uri": "https://localhost:8080/"
        },
        "outputId": "53938f0b-9ad3-40b8-e9e9-cac7c1e5ced0"
      },
      "execution_count": null,
      "outputs": [
        {
          "output_type": "stream",
          "name": "stdout",
          "text": [
            "Mounted at /content/drive\n"
          ]
        }
      ]
    },
    {
      "cell_type": "code",
      "source": [
        "# read the file from google drive\n",
        "plantdataset='/content/drive/MyDrive/Data Science/PlantDataset2'\n",
        "plantdataset"
      ],
      "metadata": {
        "id": "u73KjCNsXW9b",
        "colab": {
          "base_uri": "https://localhost:8080/",
          "height": 35
        },
        "outputId": "01417179-bc31-4e17-c843-3c33cb91474f"
      },
      "execution_count": null,
      "outputs": [
        {
          "output_type": "execute_result",
          "data": {
            "text/plain": [
              "'/content/drive/MyDrive/Data Science/PlantDataset2'"
            ],
            "application/vnd.google.colaboratory.intrinsic+json": {
              "type": "string"
            }
          },
          "metadata": {},
          "execution_count": 3
        }
      ]
    },
    {
      "cell_type": "markdown",
      "source": [
        "Because this dataset has been divided into three sets: training, testing, and validation. So we don't need to split dataset into traning,testing and validation set.\n",
        "\n"
      ],
      "metadata": {
        "id": "VJzZ0V-XYWy5"
      }
    },
    {
      "cell_type": "code",
      "source": [
        "train_set='/content/drive/MyDrive/Data Science/PlantDataset2/Train'\n",
        "train_set"
      ],
      "metadata": {
        "id": "QUZf7gO2X8YC",
        "colab": {
          "base_uri": "https://localhost:8080/",
          "height": 35
        },
        "outputId": "8ceb7683-7191-4ed4-9247-bcff5d9cd9a9"
      },
      "execution_count": null,
      "outputs": [
        {
          "output_type": "execute_result",
          "data": {
            "text/plain": [
              "'/content/drive/MyDrive/Data Science/PlantDataset2/Train'"
            ],
            "application/vnd.google.colaboratory.intrinsic+json": {
              "type": "string"
            }
          },
          "metadata": {},
          "execution_count": 4
        }
      ]
    },
    {
      "cell_type": "code",
      "source": [
        "test_set='/content/drive/MyDrive/Data Science/PlantDataset2/Test'\n",
        "test_set"
      ],
      "metadata": {
        "id": "d-QIidc2YFOO",
        "colab": {
          "base_uri": "https://localhost:8080/",
          "height": 35
        },
        "outputId": "a229820f-9229-4aa0-e3ae-a13c368f330a"
      },
      "execution_count": null,
      "outputs": [
        {
          "output_type": "execute_result",
          "data": {
            "text/plain": [
              "'/content/drive/MyDrive/Data Science/PlantDataset2/Test'"
            ],
            "application/vnd.google.colaboratory.intrinsic+json": {
              "type": "string"
            }
          },
          "metadata": {},
          "execution_count": 5
        }
      ]
    },
    {
      "cell_type": "code",
      "source": [
        "val_set='/content/drive/MyDrive/Data Science/PlantDataset2/Validation'\n",
        "val_set"
      ],
      "metadata": {
        "id": "kAB1tFplYLMO",
        "colab": {
          "base_uri": "https://localhost:8080/",
          "height": 35
        },
        "outputId": "d2101b83-756e-4caa-acc1-17c899c108eb"
      },
      "execution_count": null,
      "outputs": [
        {
          "output_type": "execute_result",
          "data": {
            "text/plain": [
              "'/content/drive/MyDrive/Data Science/PlantDataset2/Validation'"
            ],
            "application/vnd.google.colaboratory.intrinsic+json": {
              "type": "string"
            }
          },
          "metadata": {},
          "execution_count": 6
        }
      ]
    },
    {
      "cell_type": "markdown",
      "source": [
        "# New Section"
      ],
      "metadata": {
        "id": "2vjrwK7NXndH"
      }
    },
    {
      "cell_type": "code",
      "source": [
        "from zmq.constants import CHANNEL\n",
        "# set up the size value of image and batch\n",
        "IMAGE_SIZE=(4000,2672)\n",
        "BATCH_SIZE=50\n",
        "CHANNEL=3\n",
        "EPOCHS=20"
      ],
      "metadata": {
        "id": "_YFJ4SboY4Ar"
      },
      "execution_count": null,
      "outputs": []
    },
    {
      "cell_type": "code",
      "source": [
        "# create a images datasets\n",
        "dataset=tf.keras.preprocessing.image_dataset_from_directory(\n",
        "    \"/content/drive/MyDrive/Data Science/PlantDataset2/Train\",\n",
        "    shuffle=True,\n",
        "    image_size=(4000,2672),\n",
        "    batch_size=BATCH_SIZE\n",
        ")\n"
      ],
      "metadata": {
        "id": "Ay-Vc4ggpX-m",
        "colab": {
          "base_uri": "https://localhost:8080/"
        },
        "outputId": "7464296a-ebf5-49ac-b3bf-32a727f27593"
      },
      "execution_count": null,
      "outputs": [
        {
          "output_type": "stream",
          "name": "stdout",
          "text": [
            "Found 1322 files belonging to 3 classes.\n"
          ]
        }
      ]
    },
    {
      "cell_type": "code",
      "source": [
        "class_names=dataset.class_names\n",
        "class_names"
      ],
      "metadata": {
        "id": "4eABUpxkxzwz",
        "colab": {
          "base_uri": "https://localhost:8080/"
        },
        "outputId": "51c7d5b4-decb-4fc3-c9ef-32a6dcf22511"
      },
      "execution_count": null,
      "outputs": [
        {
          "output_type": "execute_result",
          "data": {
            "text/plain": [
              "['Healthy', 'Powdery', 'Rust']"
            ]
          },
          "metadata": {},
          "execution_count": 9
        }
      ]
    },
    {
      "cell_type": "code",
      "source": [
        "for image_batch, label_batch in dataset.take(1):\n",
        "  print(image_batch.shape)\n",
        "  print(label_batch.numpy())"
      ],
      "metadata": {
        "id": "FpVQjX4r0DAn"
      },
      "execution_count": null,
      "outputs": []
    },
    {
      "cell_type": "code",
      "source": [
        "for image_batch, label_batch in dataset.take(1):\n",
        "  print(image_batch[0].shape)"
      ],
      "metadata": {
        "id": "FR14nEVO0EQg"
      },
      "execution_count": null,
      "outputs": []
    },
    {
      "cell_type": "code",
      "source": [
        "for image_batch, label_batch in dataset.take(1):\n",
        "  print(image_batch[0].numpy())"
      ],
      "metadata": {
        "id": "3VWEmOug96TU"
      },
      "execution_count": null,
      "outputs": []
    },
    {
      "cell_type": "code",
      "source": [
        "# visulaize the first 16 images of training set\n",
        "for image_batch, label_batch in dataset.take(1):\n",
        "  for i in range(16):\n",
        "    ax=plt.subplot(4,4,i+1)   #4 rows and 4 columns\n",
        "    plt.imshow(image_batch[i].numpy().astype(\"uint8\"))\n",
        "    plt.title(class_names[label_batch[i]])\n",
        "    plt.axis(\"off\")"
      ],
      "metadata": {
        "id": "7GbKV5vipHtd"
      },
      "execution_count": null,
      "outputs": []
    },
    {
      "cell_type": "code",
      "source": [],
      "metadata": {
        "id": "TTS4O13XzY5I"
      },
      "execution_count": null,
      "outputs": []
    },
    {
      "cell_type": "code",
      "source": [
        "data_augmentation=tf.keras.Sequential([\n",
        "    layers.experimental.preprocessing.RandomFlip(\"horizontal_and_vertical\"), #creates a layer that randomly flips the input images horizontally and/or vertically with a probability of 0.5.\n",
        "    layers.experimental.preprocessing.RandomRotation(0.2)    #creates a layer that randomly rotates the input images by a factor of up to 0.2 radians (about 11.5 degrees) in either direction.\n",
        "])"
      ],
      "metadata": {
        "id": "sYGfTUce0LJw"
      },
      "execution_count": null,
      "outputs": []
    },
    {
      "cell_type": "code",
      "source": [
        "from keras.api._v2.keras import activations\n",
        "# build a model\n",
        "input_shape=(BATCH_SIZE,IMAGE_SIZE,IMAGE_SIZE,CHANNEL)\n",
        "n_classes=3\n",
        "\n",
        "model=models.Sequential([\n",
        "    layers.experimental.preprocessing.Rescaling(1.0/255, input_shape=(4000, 2672,3)),   # lenth, width, color\n",
        "    #data_augmentation,\n",
        "    layers.Conv2D(32,(3,3),activation=\"relu\",input_shape=input_shape),\n",
        "    layers.MaxPool2D((2,2)),\n",
        "    layers.Conv2D(64,kernel_size=(3,3),activation=\"relu\"),\n",
        "    layers.MaxPool2D((2,2)),\n",
        "    layers.Conv2D(64,kernel_size=(3,3),activation=\"relu\"),\n",
        "    layers.MaxPool2D((2,2)),\n",
        "    layers.Conv2D(64,kernel_size=(3,3),activation=\"relu\"),\n",
        "    layers.MaxPool2D((2,2)),\n",
        "    layers.Conv2D(64,kernel_size=(3,3),activation=\"relu\"),\n",
        "    layers.MaxPool2D((2,2)),\n",
        "    layers.Conv2D(64,kernel_size=(3,3),activation=\"relu\"),\n",
        "    layers.MaxPool2D((2,2)),\n",
        "    layers.Flatten(),\n",
        "    layers.Dense(64,activation=\"relu\"),\n",
        "    layers.Dense(n_classes,activation=\"softmax\"),\n",
        "\n",
        "]\n",
        "\n",
        ")\n",
        "\n",
        "model.build(input_shape=input_shape)"
      ],
      "metadata": {
        "id": "Z-IVgoNI0QP5"
      },
      "execution_count": null,
      "outputs": []
    },
    {
      "cell_type": "code",
      "source": [
        "model.summary()"
      ],
      "metadata": {
        "id": "xFT0ApkI0UKB"
      },
      "execution_count": null,
      "outputs": []
    },
    {
      "cell_type": "code",
      "source": [
        "model.compile(\n",
        "    optimizer='adam',\n",
        "    loss=tf.keras.losses.SparseCategoricalCrossentropy(from_logits=False),\n",
        "    metrics=['accuracy']\n",
        ")"
      ],
      "metadata": {
        "id": "nHS0WMNP0WQJ"
      },
      "execution_count": null,
      "outputs": []
    },
    {
      "cell_type": "code",
      "source": [
        "history=model.fit(\n",
        "    train_set,\n",
        "    epochs=EPOCHS,\n",
        "    batch_size=BATCH_SIZE,\n",
        "    verbose=1,\n",
        "    validation_data=val_set\n",
        "\n",
        ")"
      ],
      "metadata": {
        "id": "30WPVgtv0Znh"
      },
      "execution_count": null,
      "outputs": []
    },
    {
      "cell_type": "code",
      "source": [
        "scores=model.evaluate(test_set)\n",
        "scores"
      ],
      "metadata": {
        "id": "Yh-oJZ1Y0g4Z"
      },
      "execution_count": null,
      "outputs": []
    },
    {
      "cell_type": "code",
      "source": [
        "history"
      ],
      "metadata": {
        "id": "ItKD04Sk0jxy"
      },
      "execution_count": null,
      "outputs": []
    },
    {
      "cell_type": "code",
      "source": [
        "history.params"
      ],
      "metadata": {
        "id": "2-egzJWS0mJD"
      },
      "execution_count": null,
      "outputs": []
    },
    {
      "cell_type": "code",
      "source": [
        "history.history.keys()"
      ],
      "metadata": {
        "id": "XIq4DdeB0ohi"
      },
      "execution_count": null,
      "outputs": []
    },
    {
      "cell_type": "code",
      "source": [
        "history.history['accuracy']"
      ],
      "metadata": {
        "id": "_vP4_vAi0rDy"
      },
      "execution_count": null,
      "outputs": []
    },
    {
      "cell_type": "code",
      "source": [
        "accuracy=history.history['accuracy']\n",
        "validation_accuracy=history.history['val_accuracy']\n",
        "loss=history.history['loss']\n",
        "val_loss=history.history['val_loss']"
      ],
      "metadata": {
        "id": "xun-bf-Z0tPc"
      },
      "execution_count": null,
      "outputs": []
    },
    {
      "cell_type": "code",
      "source": [
        "# visulaize the training and validation accuracy\n",
        "plt.figure(figsize=(8,8))\n",
        "plt.subplot(1,2,1)\n",
        "plt.plot(range(EPOCHS),accuracy,label='Training Accuracy')\n",
        "plt.plot(range(EPOCHS),validation_accuracy, label='Validation Accuracy')\n",
        "plt.legend(loc='lower right')\n",
        "plt.title('Trianing and Validation Accuracy')\n",
        "plt.show()"
      ],
      "metadata": {
        "id": "OOvAKF0o0vlt"
      },
      "execution_count": null,
      "outputs": []
    },
    {
      "cell_type": "code",
      "source": [
        "# visulaize the loss of training and validation\n",
        "plt.figure(figsize=(8,8))\n",
        "plt.subplot(1,2,1)\n",
        "plt.plot(range(EPOCHS),loss,label='Training Loss')\n",
        "plt.plot(range(EPOCHS),val_loss, label='Validation Loss')\n",
        "plt.legend(loc='upper right')\n",
        "plt.title('Trianing and Validation Loss')\n",
        "plt.show()"
      ],
      "metadata": {
        "id": "KxeXAZdB0xoC"
      },
      "execution_count": null,
      "outputs": []
    },
    {
      "cell_type": "code",
      "source": [
        "# save model\n",
        "import pickle\n",
        "with open('model_plant_CNN','wb') as f:\n",
        "  pickle.dump(model,f)\n"
      ],
      "metadata": {
        "id": "Uie77Jpe0zzq"
      },
      "execution_count": null,
      "outputs": []
    }
  ]
}